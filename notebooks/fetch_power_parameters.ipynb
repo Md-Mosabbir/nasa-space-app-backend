{
 "cells": [
  {
   "cell_type": "code",
   "execution_count": 8,
   "id": "79fd5784",
   "metadata": {},
   "outputs": [],
   "source": [
    "import numpy as np\n",
    "import pandas as pd\n",
    "import requests\n",
    "import json"
   ]
  },
  {
   "cell_type": "markdown",
   "id": "59a41cde",
   "metadata": {},
   "source": [
    "#Pick a temporal level to run analysis for:"
   ]
  },
  {
   "cell_type": "code",
   "execution_count": 2,
   "id": "8b4c272e",
   "metadata": {},
   "outputs": [],
   "source": [
    "temporal = 'daily'"
   ]
  },
  {
   "cell_type": "code",
   "execution_count": 3,
   "id": "3d2bfff0",
   "metadata": {},
   "outputs": [],
   "source": [
    "start=2020\n",
    "end=2025"
   ]
  },
  {
   "cell_type": "markdown",
   "id": "22d68b97",
   "metadata": {},
   "source": [
    "#Location"
   ]
  },
  {
   "cell_type": "code",
   "execution_count": 4,
   "id": "633a448e",
   "metadata": {},
   "outputs": [],
   "source": [
    "latitude = 23.777176\n",
    "longitude = 90.399452"
   ]
  },
  {
   "cell_type": "code",
   "execution_count": 5,
   "id": "71620b56",
   "metadata": {},
   "outputs": [],
   "source": [
    "parameters = ['T2M', 'PRECTOT', 'WS10M', 'RH2M']  # Temperature, Precipitation, Wind Speed, Relative Humidity"
   ]
  },
  {
   "cell_type": "code",
   "execution_count": null,
   "id": "61e34d41",
   "metadata": {},
   "outputs": [],
   "source": []
  },
  {
   "cell_type": "code",
   "execution_count": 6,
   "id": "1e89a825",
   "metadata": {},
   "outputs": [
    {
     "name": "stdout",
     "output_type": "stream",
     "text": [
      "Query URL: https://power.larc.nasa.gov/api/temporal/daily/point?parameters=T2M,PRECTOT,WS10M,RH2M&community=RE&longitude=90.399452&latitude=23.777176&start=2020&end=2025&format=JSON\n"
     ]
    }
   ],
   "source": [
    "base_url = \"https://power.larc.nasa.gov/api/temporal/{}/point?parameters={}&community=RE&longitude={}&latitude={}&start={}&end={}&format=JSON\"\n",
    "query_url = base_url.format(temporal, ','.join(parameters), longitude, latitude, start, end)\n",
    "print(\"Query URL:\", query_url)"
   ]
  },
  {
   "cell_type": "markdown",
   "id": "b76bbeb9",
   "metadata": {},
   "source": [
    "#Request Data"
   ]
  },
  {
   "cell_type": "code",
   "execution_count": 9,
   "id": "fdd788c4",
   "metadata": {},
   "outputs": [
    {
     "name": "stdout",
     "output_type": "stream",
     "text": [
      "CPU times: user 60.1 ms, sys: 6.28 ms, total: 66.4 ms\n",
      "Wall time: 3.68 s\n"
     ]
    }
   ],
   "source": [
    "%%time\n",
    "main_response = requests.get(url=query_url, verify=True, timeout=30)\n",
    "json_response = json.loads(main_response.text)"
   ]
  },
  {
   "cell_type": "code",
   "execution_count": 10,
   "id": "f519b5f1",
   "metadata": {},
   "outputs": [
    {
     "data": {
      "text/html": [
       "<div>\n",
       "<style scoped>\n",
       "    .dataframe tbody tr th:only-of-type {\n",
       "        vertical-align: middle;\n",
       "    }\n",
       "\n",
       "    .dataframe tbody tr th {\n",
       "        vertical-align: top;\n",
       "    }\n",
       "\n",
       "    .dataframe thead th {\n",
       "        text-align: right;\n",
       "    }\n",
       "</style>\n",
       "<table border=\"1\" class=\"dataframe\">\n",
       "  <thead>\n",
       "    <tr style=\"text-align: right;\">\n",
       "      <th></th>\n",
       "      <th>WS10M</th>\n",
       "      <th>T2M</th>\n",
       "      <th>RH2M</th>\n",
       "      <th>PRECTOTCORR</th>\n",
       "    </tr>\n",
       "  </thead>\n",
       "  <tbody>\n",
       "    <tr>\n",
       "      <th>2020-01-01</th>\n",
       "      <td>1.49</td>\n",
       "      <td>20.15</td>\n",
       "      <td>76.09</td>\n",
       "      <td>0.00</td>\n",
       "    </tr>\n",
       "    <tr>\n",
       "      <th>2020-01-02</th>\n",
       "      <td>1.91</td>\n",
       "      <td>20.13</td>\n",
       "      <td>79.37</td>\n",
       "      <td>0.01</td>\n",
       "    </tr>\n",
       "    <tr>\n",
       "      <th>2020-01-03</th>\n",
       "      <td>1.76</td>\n",
       "      <td>17.56</td>\n",
       "      <td>92.62</td>\n",
       "      <td>36.36</td>\n",
       "    </tr>\n",
       "    <tr>\n",
       "      <th>2020-01-04</th>\n",
       "      <td>1.48</td>\n",
       "      <td>18.43</td>\n",
       "      <td>83.94</td>\n",
       "      <td>2.04</td>\n",
       "    </tr>\n",
       "    <tr>\n",
       "      <th>2020-01-05</th>\n",
       "      <td>2.52</td>\n",
       "      <td>16.85</td>\n",
       "      <td>87.04</td>\n",
       "      <td>6.46</td>\n",
       "    </tr>\n",
       "  </tbody>\n",
       "</table>\n",
       "</div>"
      ],
      "text/plain": [
       "            WS10M    T2M   RH2M  PRECTOTCORR\n",
       "2020-01-01   1.49  20.15  76.09         0.00\n",
       "2020-01-02   1.91  20.13  79.37         0.01\n",
       "2020-01-03   1.76  17.56  92.62        36.36\n",
       "2020-01-04   1.48  18.43  83.94         2.04\n",
       "2020-01-05   2.52  16.85  87.04         6.46"
      ]
     },
     "execution_count": 10,
     "metadata": {},
     "output_type": "execute_result"
    }
   ],
   "source": [
    "df = pd.DataFrame.from_dict(json_response['properties']['parameter'])\n",
    "\n",
    "if(temporal == 'hourly'):\n",
    "    df.index = pd.to_datetime(df.index, format='%Y%m%d%H%M')\n",
    "elif(temporal == 'daily'):\n",
    "    df.index = pd.to_datetime(df.index, format='%Y%m%d')\n",
    "\n",
    "df.replace(-999.0, 0)\n",
    "df.head()"
   ]
  },
  {
   "cell_type": "code",
   "execution_count": 19,
   "id": "b5443f09",
   "metadata": {},
   "outputs": [
    {
     "data": {
      "text/html": [
       "<div>\n",
       "<style scoped>\n",
       "    .dataframe tbody tr th:only-of-type {\n",
       "        vertical-align: middle;\n",
       "    }\n",
       "\n",
       "    .dataframe tbody tr th {\n",
       "        vertical-align: top;\n",
       "    }\n",
       "\n",
       "    .dataframe thead th {\n",
       "        text-align: right;\n",
       "    }\n",
       "</style>\n",
       "<table border=\"1\" class=\"dataframe\">\n",
       "  <thead>\n",
       "    <tr style=\"text-align: right;\">\n",
       "      <th></th>\n",
       "      <th>WS10M</th>\n",
       "      <th>T2M</th>\n",
       "      <th>RH2M</th>\n",
       "      <th>PRECTOTCORR</th>\n",
       "    </tr>\n",
       "  </thead>\n",
       "  <tbody>\n",
       "    <tr>\n",
       "      <th>count</th>\n",
       "      <td>2089.000</td>\n",
       "      <td>2089.000</td>\n",
       "      <td>2089.000</td>\n",
       "      <td>2089.000</td>\n",
       "    </tr>\n",
       "    <tr>\n",
       "      <th>mean</th>\n",
       "      <td>2.755</td>\n",
       "      <td>25.590</td>\n",
       "      <td>77.165</td>\n",
       "      <td>7.234</td>\n",
       "    </tr>\n",
       "    <tr>\n",
       "      <th>std</th>\n",
       "      <td>1.261</td>\n",
       "      <td>4.514</td>\n",
       "      <td>13.846</td>\n",
       "      <td>12.520</td>\n",
       "    </tr>\n",
       "    <tr>\n",
       "      <th>min</th>\n",
       "      <td>0.660</td>\n",
       "      <td>13.920</td>\n",
       "      <td>31.570</td>\n",
       "      <td>0.000</td>\n",
       "    </tr>\n",
       "    <tr>\n",
       "      <th>25%</th>\n",
       "      <td>1.860</td>\n",
       "      <td>22.180</td>\n",
       "      <td>69.040</td>\n",
       "      <td>0.000</td>\n",
       "    </tr>\n",
       "    <tr>\n",
       "      <th>50%</th>\n",
       "      <td>2.420</td>\n",
       "      <td>27.690</td>\n",
       "      <td>81.160</td>\n",
       "      <td>2.330</td>\n",
       "    </tr>\n",
       "    <tr>\n",
       "      <th>75%</th>\n",
       "      <td>3.460</td>\n",
       "      <td>28.820</td>\n",
       "      <td>88.650</td>\n",
       "      <td>9.490</td>\n",
       "    </tr>\n",
       "    <tr>\n",
       "      <th>max</th>\n",
       "      <td>13.370</td>\n",
       "      <td>33.550</td>\n",
       "      <td>95.950</td>\n",
       "      <td>144.770</td>\n",
       "    </tr>\n",
       "  </tbody>\n",
       "</table>\n",
       "</div>"
      ],
      "text/plain": [
       "          WS10M       T2M      RH2M  PRECTOTCORR\n",
       "count  2089.000  2089.000  2089.000     2089.000\n",
       "mean      2.755    25.590    77.165        7.234\n",
       "std       1.261     4.514    13.846       12.520\n",
       "min       0.660    13.920    31.570        0.000\n",
       "25%       1.860    22.180    69.040        0.000\n",
       "50%       2.420    27.690    81.160        2.330\n",
       "75%       3.460    28.820    88.650        9.490\n",
       "max      13.370    33.550    95.950      144.770"
      ]
     },
     "execution_count": 19,
     "metadata": {},
     "output_type": "execute_result"
    }
   ],
   "source": [
    "df.replace(-999.0, np.nan, inplace=True)\n",
    "df.describe().round(3)"
   ]
  }
 ],
 "metadata": {
  "kernelspec": {
   "display_name": "venv",
   "language": "python",
   "name": "python3"
  },
  "language_info": {
   "codemirror_mode": {
    "name": "ipython",
    "version": 3
   },
   "file_extension": ".py",
   "mimetype": "text/x-python",
   "name": "python",
   "nbconvert_exporter": "python",
   "pygments_lexer": "ipython3",
   "version": "3.12.3"
  }
 },
 "nbformat": 4,
 "nbformat_minor": 5
}
